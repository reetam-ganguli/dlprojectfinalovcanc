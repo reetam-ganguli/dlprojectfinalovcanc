{
 "cells": [
  {
   "cell_type": "markdown",
   "metadata": {},
   "source": [
    "## Train autoencoder with multi-omics data (cnv_methyl_mrna)\n",
    "\n",
    "Here I only show the case using `cnv_methyl_mrna` data to generate and store its encoded features into `latent_features_vanilla_cnv_methyl_mrna.csv` file."
   ]
  },
  {
   "cell_type": "code",
   "execution_count": 10,
   "metadata": {
    "tags": []
   },
   "outputs": [
    {
     "name": "stdout",
     "output_type": "stream",
     "text": [
      "===== starting =====\n",
      "===== loading omics data =====\n",
      "cnv_methyl_mrna.csv contains 555 patients with 58512 features\n",
      "checkpoint file saved at ./output/030622-170042_variational_cnv_methyl_mrna/checkpoints\n",
      "log file save as ./output/030622-170042_variational_cnv_methyl_mrna/logs\n",
      "===== Train autoencoder =====\n",
      "Epoch 1, Loss 0.01822821\n",
      "Epoch 2, Loss 0.01219307\n",
      "Epoch 3, Loss 0.01111690\n",
      "Epoch 4, Loss 0.01008066\n",
      "Epoch 5, Loss 0.00942348\n",
      "Epoch 6, Loss 0.00876206\n",
      "Epoch 7, Loss 0.00821604\n",
      "Epoch 8, Loss 0.00764827\n",
      "Epoch 9, Loss 0.00709043\n",
      "Epoch 10, Loss 0.00667661\n",
      "Epoch 11, Loss 0.00627689\n",
      "Epoch 12, Loss 0.00587577\n",
      "Epoch 13, Loss 0.00547324\n",
      "Epoch 14, Loss 0.00511535\n",
      "Epoch 15, Loss 0.00484501\n",
      "Epoch 16, Loss 0.00453817\n",
      "Epoch 17, Loss 0.00421080\n",
      "Epoch 18, Loss 0.00396663\n",
      "Epoch 19, Loss 0.00376743\n",
      "Epoch 20, Loss 0.00347639\n",
      "Epoch 21, Loss 0.00318197\n",
      "Epoch 22, Loss 0.00300264\n",
      "Epoch 23, Loss 0.00282892\n",
      "Epoch 24, Loss 0.00258823\n",
      "Epoch 25, Loss 0.00242612\n",
      "Epoch 26, Loss 0.00238417\n",
      "Epoch 27, Loss 0.00215363\n",
      "Epoch 28, Loss 0.00201605\n",
      "Epoch 29, Loss 0.00192295\n",
      "Epoch 30, Loss 0.00179278\n",
      "Epoch 31, Loss 0.00172417\n",
      "Epoch 32, Loss 0.00163176\n",
      "Epoch 33, Loss 0.00158021\n",
      "Epoch 34, Loss 0.00147396\n",
      "Epoch 35, Loss 0.00140880\n",
      "Epoch 36, Loss 0.00133010\n",
      "Epoch 37, Loss 0.00127850\n",
      "Epoch 38, Loss 0.00116955\n",
      "Epoch 39, Loss 0.00108024\n",
      "Epoch 40, Loss 0.00105804\n",
      "Epoch 41, Loss 0.00104162\n",
      "Epoch 42, Loss 0.00098614\n",
      "Epoch 43, Loss 0.00090107\n",
      "Epoch 44, Loss 0.00083433\n",
      "Epoch 45, Loss 0.00078661\n",
      "Epoch 46, Loss 0.00078241\n",
      "Epoch 47, Loss 0.00075970\n",
      "Epoch 48, Loss 0.00072923\n",
      "Epoch 49, Loss 0.00079262\n",
      "Epoch 50, Loss 0.00076221\n"
     ]
    }
   ],
   "source": [
    "# Train autoencoder\n",
    "!python ../codes/run.py --autoencoder-model variational \\\n",
    "                        --omics-data ../../data/omics_data/1_csv_data/cnv_methyl_mrna.csv \\\n",
    "                        --train-autoencoder \\"
   ]
  },
  {
   "cell_type": "markdown",
   "metadata": {},
   "source": [
    "### Remember to check the model type, tri-omics data name and the checkpoints path!!!"
   ]
  },
  {
   "cell_type": "code",
   "execution_count": 13,
   "metadata": {
    "tags": []
   },
   "outputs": [
    {
     "name": "stdout",
     "output_type": "stream",
     "text": [
      "===== starting =====\n",
      "===== loading omics data =====\n",
      "cnv_methyl_mrna.csv contains 555 patients with 58512 features\n",
      "===== Loading pretrained autoencoder =====\n",
      "loading pretrained model at ./output/030622-164654_vanilla_cnv_methyl_mrna/checkpoints/epoch_49\n",
      "===== train classifier =====\n",
      "classifier data: encoded_omics\n",
      "===== classifier preprocess =====\n",
      "cnv_methyl_mrna_biomed_clinical_85_features.csv contains omics data for 450 patients with 58512 features\n",
      "save encoded omics features in latent_features_vanilla_cnv_methyl_mrna.csv\n",
      "===== finish omics encoding =====\n",
      "X_train:(360, 128) \n",
      " X_test:(90, 128)\n",
      " Y_train: (360,)\n",
      " Y_test: (90,)\n",
      "===== start XGB =====\n",
      "/gpfs/home/chuang25/pythonenv/tf_gpu/lib/python3.7/site-packages/xgboost/sklearn.py:1224: UserWarning: The use of label encoder in XGBClassifier is deprecated and will be removed in a future release. To remove this warning, do the following: 1) Pass option use_label_encoder=False when constructing XGBClassifier object; and 2) Encode your labels (y) as integers starting with 0, i.e. 0, 1, 2, ..., [num_class - 1].\n",
      "  warnings.warn(label_encoder_deprecation_msg, UserWarning)\n",
      "[17:11:09] WARNING: ../src/learner.cc:1115: Starting in XGBoost 1.3.0, the default evaluation metric used with the objective 'binary:logistic' was changed from 'error' to 'logloss'. Explicitly set eval_metric if you'd like to restore the old behavior.\n",
      "===== start RandomForest =====\n",
      "===== start LogisticRegression =====\n",
      "/gpfs/home/chuang25/pythonenv/tf_gpu/lib/python3.7/site-packages/sklearn/linear_model/_logistic.py:818: ConvergenceWarning: lbfgs failed to converge (status=1):\n",
      "STOP: TOTAL NO. of ITERATIONS REACHED LIMIT.\n",
      "\n",
      "Increase the number of iterations (max_iter) or scale the data as shown in:\n",
      "    https://scikit-learn.org/stable/modules/preprocessing.html\n",
      "Please also refer to the documentation for alternative solver options:\n",
      "    https://scikit-learn.org/stable/modules/linear_model.html#logistic-regression\n",
      "  extra_warning_msg=_LOGISTIC_SOLVER_CONVERGENCE_MSG,\n",
      "===== start SVC =====\n",
      "===== start plotting results =====\n",
      "/gpfs/home/chuang25/pythonenv/tf_gpu/lib/python3.7/site-packages/sklearn/utils/deprecation.py:87: FutureWarning: Function plot_roc_curve is deprecated; Function `plot_roc_curve` is deprecated in 1.0 and will be removed in 1.2. Use one of the class methods: RocCurveDisplay.from_predictions or RocCurveDisplay.from_estimator.\n",
      "  warnings.warn(msg, category=FutureWarning)\n",
      "/gpfs/home/chuang25/pythonenv/tf_gpu/lib/python3.7/site-packages/sklearn/utils/deprecation.py:87: FutureWarning: Function plot_roc_curve is deprecated; Function `plot_roc_curve` is deprecated in 1.0 and will be removed in 1.2. Use one of the class methods: RocCurveDisplay.from_predictions or RocCurveDisplay.from_estimator.\n",
      "  warnings.warn(msg, category=FutureWarning)\n",
      "/gpfs/home/chuang25/pythonenv/tf_gpu/lib/python3.7/site-packages/sklearn/utils/deprecation.py:87: FutureWarning: Function plot_roc_curve is deprecated; Function `plot_roc_curve` is deprecated in 1.0 and will be removed in 1.2. Use one of the class methods: RocCurveDisplay.from_predictions or RocCurveDisplay.from_estimator.\n",
      "  warnings.warn(msg, category=FutureWarning)\n",
      "/gpfs/home/chuang25/pythonenv/tf_gpu/lib/python3.7/site-packages/sklearn/utils/deprecation.py:87: FutureWarning: Function plot_roc_curve is deprecated; Function `plot_roc_curve` is deprecated in 1.0 and will be removed in 1.2. Use one of the class methods: RocCurveDisplay.from_predictions or RocCurveDisplay.from_estimator.\n",
      "  warnings.warn(msg, category=FutureWarning)\n",
      "Acc for XGBoost: 0.89\n",
      "Acc for RandomForest: 0.90\n",
      "Acc for LogisticRegression: 0.88\n",
      "Acc for SVC: 0.90\n"
     ]
    }
   ],
   "source": [
    "# Obtain the encoded omics features by using the encoded omics features for classifier purpose\n",
    "!python ../codes/run.py --autoencoder-model variational \\\n",
    "                        --classifier-model all \\\n",
    "                        --load-autoencoder ./output/030622-170042_variational_cnv_methyl_mrna/checkpoints/epoch_49 \\\n",
    "                        --omics-data ../../data/omics_data/1_csv_data/cnv_methyl_mrna.csv \\\n",
    "                        --biomed-data ../../data/biomed_clinic_data/02_combined_data/biomed_clinical_85features.csv \\\n",
    "                        --merged-data ../original_omics_biomed_clinical_data/cnv_methyl_mrna_biomed_clinical_85_features.csv \\\n",
    "                        --train-classifier \\\n",
    "                        --classifier-data encoded_omics \\\n",
    "                        --no-save \\\n",
    "                        --save-encoded-omics"
   ]
  },
  {
   "cell_type": "markdown",
   "metadata": {},
   "source": [
    "## Train autoencoder with multi-omics data (cnv_methyl_rnaseq)"
   ]
  },
  {
   "cell_type": "code",
   "execution_count": 14,
   "metadata": {
    "tags": []
   },
   "outputs": [
    {
     "name": "stdout",
     "output_type": "stream",
     "text": [
      "===== starting =====\n",
      "===== loading omics data =====\n",
      "cnv_methyl_rnaseq.csv contains 292 patients with 67622 features\n",
      "checkpoint file saved at ./output/030622-171128_variational_cnv_methyl_rnaseq/checkpoints\n",
      "log file save as ./output/030622-171128_variational_cnv_methyl_rnaseq/logs\n",
      "===== Train autoencoder =====\n",
      "Epoch 1, Loss 0.01933192\n",
      "Epoch 2, Loss 0.01205722\n",
      "Epoch 3, Loss 0.01141203\n",
      "Epoch 4, Loss 0.01072121\n",
      "Epoch 5, Loss 0.01009487\n",
      "Epoch 6, Loss 0.00962383\n",
      "Epoch 7, Loss 0.00895373\n",
      "Epoch 8, Loss 0.00853963\n",
      "Epoch 9, Loss 0.00826548\n",
      "Epoch 10, Loss 0.00761312\n",
      "Epoch 11, Loss 0.00726950\n",
      "Epoch 12, Loss 0.00694799\n",
      "Epoch 13, Loss 0.00661812\n",
      "Epoch 14, Loss 0.00607417\n",
      "Epoch 15, Loss 0.00574839\n",
      "Epoch 16, Loss 0.00545264\n",
      "Epoch 17, Loss 0.00508844\n",
      "Epoch 18, Loss 0.00476413\n",
      "Epoch 19, Loss 0.00437516\n",
      "Epoch 20, Loss 0.00412402\n",
      "Epoch 21, Loss 0.00379622\n",
      "Epoch 22, Loss 0.00352313\n",
      "Epoch 23, Loss 0.00333174\n",
      "Epoch 24, Loss 0.00313691\n",
      "Epoch 25, Loss 0.00289611\n",
      "Epoch 26, Loss 0.00262362\n",
      "Epoch 27, Loss 0.00251533\n",
      "Epoch 28, Loss 0.00229340\n",
      "Epoch 29, Loss 0.00211605\n",
      "Epoch 30, Loss 0.00193798\n",
      "Epoch 31, Loss 0.00188341\n",
      "Epoch 32, Loss 0.00177043\n",
      "Epoch 33, Loss 0.00167914\n",
      "Epoch 34, Loss 0.00153306\n",
      "Epoch 35, Loss 0.00146055\n",
      "Epoch 36, Loss 0.00136034\n",
      "Epoch 37, Loss 0.00129952\n",
      "Epoch 38, Loss 0.00125469\n",
      "Epoch 39, Loss 0.00119678\n",
      "Epoch 40, Loss 0.00109179\n",
      "Epoch 41, Loss 0.00099148\n",
      "Epoch 42, Loss 0.00099723\n",
      "Epoch 43, Loss 0.00097218\n",
      "Epoch 44, Loss 0.00086083\n",
      "Epoch 45, Loss 0.00084068\n",
      "Epoch 46, Loss 0.00076101\n",
      "Epoch 47, Loss 0.00074578\n",
      "Epoch 48, Loss 0.00068165\n",
      "Epoch 49, Loss 0.00069633\n",
      "Epoch 50, Loss 0.00071893\n"
     ]
    }
   ],
   "source": [
    "# Train autoencoder\n",
    "!python ../codes/run.py --autoencoder-model variational \\\n",
    "                        --omics-data ../../data/omics_data/1_csv_data/cnv_methyl_rnaseq.csv \\\n",
    "                        --train-autoencoder \\"
   ]
  },
  {
   "cell_type": "markdown",
   "metadata": {},
   "source": [
    "### Remember to check the tri-omics data name and the checkpoints path!!!"
   ]
  },
  {
   "cell_type": "code",
   "execution_count": 16,
   "metadata": {},
   "outputs": [
    {
     "name": "stdout",
     "output_type": "stream",
     "text": [
      "===== starting =====\n",
      "===== loading omics data =====\n",
      "cnv_methyl_rnaseq.csv contains 292 patients with 67622 features\n",
      "===== Loading pretrained autoencoder =====\n",
      "loading pretrained model at ./output/030622-171128_variational_cnv_methyl_rnaseq/checkpoints/epoch_49\n",
      "===== train classifier =====\n",
      "classifier data: encoded_omics\n",
      "===== classifier preprocess =====\n",
      "cnv_methyl_rnaseq_biomed_clinical_85_features.csv contains omics data for 234 patients with 67622 features\n",
      "save encoded omics features in latent_features_variational_cnv_methyl_rnaseq.csv\n",
      "===== finish omics encoding =====\n",
      "X_train:(187, 128) \n",
      " X_test:(47, 128)\n",
      " Y_train: (187,)\n",
      " Y_test: (47,)\n",
      "===== start XGB =====\n",
      "/gpfs/home/chuang25/pythonenv/tf_gpu/lib/python3.7/site-packages/xgboost/sklearn.py:1224: UserWarning: The use of label encoder in XGBClassifier is deprecated and will be removed in a future release. To remove this warning, do the following: 1) Pass option use_label_encoder=False when constructing XGBClassifier object; and 2) Encode your labels (y) as integers starting with 0, i.e. 0, 1, 2, ..., [num_class - 1].\n",
      "  warnings.warn(label_encoder_deprecation_msg, UserWarning)\n",
      "[17:17:36] WARNING: ../src/learner.cc:1115: Starting in XGBoost 1.3.0, the default evaluation metric used with the objective 'binary:logistic' was changed from 'error' to 'logloss'. Explicitly set eval_metric if you'd like to restore the old behavior.\n",
      "===== start RandomForest =====\n",
      "===== start LogisticRegression =====\n",
      "/gpfs/home/chuang25/pythonenv/tf_gpu/lib/python3.7/site-packages/sklearn/linear_model/_logistic.py:818: ConvergenceWarning: lbfgs failed to converge (status=1):\n",
      "STOP: TOTAL NO. of ITERATIONS REACHED LIMIT.\n",
      "\n",
      "Increase the number of iterations (max_iter) or scale the data as shown in:\n",
      "    https://scikit-learn.org/stable/modules/preprocessing.html\n",
      "Please also refer to the documentation for alternative solver options:\n",
      "    https://scikit-learn.org/stable/modules/linear_model.html#logistic-regression\n",
      "  extra_warning_msg=_LOGISTIC_SOLVER_CONVERGENCE_MSG,\n",
      "===== start SVC =====\n",
      "===== start plotting results =====\n",
      "/gpfs/home/chuang25/pythonenv/tf_gpu/lib/python3.7/site-packages/sklearn/utils/deprecation.py:87: FutureWarning: Function plot_roc_curve is deprecated; Function `plot_roc_curve` is deprecated in 1.0 and will be removed in 1.2. Use one of the class methods: RocCurveDisplay.from_predictions or RocCurveDisplay.from_estimator.\n",
      "  warnings.warn(msg, category=FutureWarning)\n",
      "/gpfs/home/chuang25/pythonenv/tf_gpu/lib/python3.7/site-packages/sklearn/utils/deprecation.py:87: FutureWarning: Function plot_roc_curve is deprecated; Function `plot_roc_curve` is deprecated in 1.0 and will be removed in 1.2. Use one of the class methods: RocCurveDisplay.from_predictions or RocCurveDisplay.from_estimator.\n",
      "  warnings.warn(msg, category=FutureWarning)\n",
      "/gpfs/home/chuang25/pythonenv/tf_gpu/lib/python3.7/site-packages/sklearn/utils/deprecation.py:87: FutureWarning: Function plot_roc_curve is deprecated; Function `plot_roc_curve` is deprecated in 1.0 and will be removed in 1.2. Use one of the class methods: RocCurveDisplay.from_predictions or RocCurveDisplay.from_estimator.\n",
      "  warnings.warn(msg, category=FutureWarning)\n",
      "/gpfs/home/chuang25/pythonenv/tf_gpu/lib/python3.7/site-packages/sklearn/utils/deprecation.py:87: FutureWarning: Function plot_roc_curve is deprecated; Function `plot_roc_curve` is deprecated in 1.0 and will be removed in 1.2. Use one of the class methods: RocCurveDisplay.from_predictions or RocCurveDisplay.from_estimator.\n",
      "  warnings.warn(msg, category=FutureWarning)\n",
      "Acc for XGBoost: 0.74\n",
      "Acc for RandomForest: 0.74\n",
      "Acc for LogisticRegression: 0.70\n",
      "Acc for SVC: 0.74\n"
     ]
    }
   ],
   "source": [
    "# Obtain the encoded omics features by using the encoded omics features for classifier purpose\n",
    "!python ../codes/run.py --autoencoder-model variational \\\n",
    "                        --classifier-model all \\\n",
    "                        --load-autoencoder ./output/030622-171128_variational_cnv_methyl_rnaseq/checkpoints/epoch_49 \\\n",
    "                        --omics-data ../../data/omics_data/1_csv_data/cnv_methyl_rnaseq.csv \\\n",
    "                        --biomed-data ../../data/biomed_clinic_data/02_combined_data/biomed_clinical_85features.csv \\\n",
    "                        --merged-data ../original_omics_biomed_clinical_data/cnv_methyl_rnaseq_biomed_clinical_85_features.csv \\\n",
    "                        --train-classifier \\\n",
    "                        --classifier-data encoded_omics \\\n",
    "                        --no-save \\\n",
    "                        --save-encoded-omics"
   ]
  }
 ],
 "metadata": {
  "kernelspec": {
   "display_name": "Python 3",
   "language": "python",
   "name": "python3"
  },
  "language_info": {
   "codemirror_mode": {
    "name": "ipython",
    "version": 3
   },
   "file_extension": ".py",
   "mimetype": "text/x-python",
   "name": "python",
   "nbconvert_exporter": "python",
   "pygments_lexer": "ipython3",
   "version": "3.7.11"
  }
 },
 "nbformat": 4,
 "nbformat_minor": 4
}
