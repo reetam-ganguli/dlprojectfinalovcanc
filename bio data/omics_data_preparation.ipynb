{
 "cells": [
  {
   "cell_type": "markdown",
   "metadata": {
    "id": "bXTBmjxAqnAA"
   },
   "source": [
    "## Download data"
   ]
  },
  {
   "cell_type": "code",
   "execution_count": 1,
   "metadata": {
    "colab": {
     "base_uri": "https://localhost:8080/"
    },
    "executionInfo": {
     "elapsed": 27899,
     "status": "ok",
     "timestamp": 1634452549463,
     "user": {
      "displayName": "Cancan Huang",
      "photoUrl": "https://lh3.googleusercontent.com/a-/AOh14GiAcJk7SuqJTxF9K3T4WXI_gfSY-sl4q45iVkhbAA=s64",
      "userId": "00615742887679063285"
     },
     "user_tz": 240
    },
    "id": "8kFpSYpZT0xs",
    "outputId": "6c365969-46ab-440d-eb24-5710745c7547"
   },
   "outputs": [
    {
     "name": "stdout",
     "output_type": "stream",
     "text": [
      "--2022-03-06 16:30:38--  https://tcga-xena-hub.s3.us-east-1.amazonaws.com/download/TCGA.OV.sampleMap%2FGistic2_CopyNumber_Gistic2_all_data_by_genes.gz\n",
      "Resolving tcga-xena-hub.s3.us-east-1.amazonaws.com (tcga-xena-hub.s3.us-east-1.amazonaws.com)... 52.217.161.10\n",
      "Connecting to tcga-xena-hub.s3.us-east-1.amazonaws.com (tcga-xena-hub.s3.us-east-1.amazonaws.com)|52.217.161.10|:443... connected.\n",
      "HTTP request sent, awaiting response... 200 OK\n",
      "Length: 1633969 (1.6M) [binary/octet-stream]\n",
      "Saving to: './0_raw_data/CNV.gz'\n",
      "\n",
      "100%[======================================>] 1,633,969   --.-K/s   in 0.09s   \n",
      "\n",
      "2022-03-06 16:30:38 (17.3 MB/s) - './0_raw_data/CNV.gz' saved [1633969/1633969]\n",
      "\n",
      "--2022-03-06 16:30:39--  https://tcga-xena-hub.s3.us-east-1.amazonaws.com/download/TCGA.OV.sampleMap%2FHumanMethylation27.gz\n",
      "Resolving tcga-xena-hub.s3.us-east-1.amazonaws.com (tcga-xena-hub.s3.us-east-1.amazonaws.com)... 52.217.161.10\n",
      "Connecting to tcga-xena-hub.s3.us-east-1.amazonaws.com (tcga-xena-hub.s3.us-east-1.amazonaws.com)|52.217.161.10|:443... connected.\n",
      "HTTP request sent, awaiting response... 200 OK\n",
      "Length: 32248917 (31M) [binary/octet-stream]\n",
      "Saving to: './0_raw_data/Methyl.gz'\n",
      "\n",
      "100%[======================================>] 32,248,917  41.5MB/s   in 0.7s   \n",
      "\n",
      "2022-03-06 16:30:39 (41.5 MB/s) - './0_raw_data/Methyl.gz' saved [32248917/32248917]\n",
      "\n",
      "--2022-03-06 16:30:40--  https://tcga-xena-hub.s3.us-east-1.amazonaws.com/download/TCGA.OV.sampleMap%2FHT_HG-U133A.gz\n",
      "Resolving tcga-xena-hub.s3.us-east-1.amazonaws.com (tcga-xena-hub.s3.us-east-1.amazonaws.com)... 52.217.161.10\n",
      "Connecting to tcga-xena-hub.s3.us-east-1.amazonaws.com (tcga-xena-hub.s3.us-east-1.amazonaws.com)|52.217.161.10|:443... connected.\n",
      "HTTP request sent, awaiting response... 200 OK\n",
      "Length: 56226824 (54M) [binary/octet-stream]\n",
      "Saving to: './0_raw_data/mRNA.gz'\n",
      "\n",
      "100%[======================================>] 56,226,824  3.81MB/s   in 5.1s   \n",
      "\n",
      "2022-03-06 16:30:45 (10.5 MB/s) - './0_raw_data/mRNA.gz' saved [56226824/56226824]\n",
      "\n",
      "--2022-03-06 16:30:45--  https://tcga-xena-hub.s3.us-east-1.amazonaws.com/download/TCGA.OV.sampleMap%2FHiSeqV2_PANCAN.gz\n",
      "Resolving tcga-xena-hub.s3.us-east-1.amazonaws.com (tcga-xena-hub.s3.us-east-1.amazonaws.com)... 52.217.161.10\n",
      "Connecting to tcga-xena-hub.s3.us-east-1.amazonaws.com (tcga-xena-hub.s3.us-east-1.amazonaws.com)|52.217.161.10|:443... connected.\n",
      "HTTP request sent, awaiting response... 200 OK\n",
      "Length: 22808782 (22M) [binary/octet-stream]\n",
      "Saving to: './0_raw_data/RNAseq.gz'\n",
      "\n",
      "100%[======================================>] 22,808,782  2.30MB/s   in 9.2s   \n",
      "\n",
      "2022-03-06 16:30:54 (2.36 MB/s) - './0_raw_data/RNAseq.gz' saved [22808782/22808782]\n",
      "\n"
     ]
    }
   ],
   "source": [
    "!wget -O ./0_raw_data/CNV.gz https://tcga-xena-hub.s3.us-east-1.amazonaws.com/download/TCGA.OV.sampleMap\\%2FGistic2_CopyNumber_Gistic2_all_data_by_genes.gz\n",
    "!wget -O ./0_raw_data/Methyl.gz https://tcga-xena-hub.s3.us-east-1.amazonaws.com/download/TCGA.OV.sampleMap\\%2FHumanMethylation27.gz\n",
    "!wget -O ./0_raw_data/mRNA.gz https://tcga-xena-hub.s3.us-east-1.amazonaws.com/download/TCGA.OV.sampleMap\\%2FHT_HG-U133A.gz\n",
    "!wget -O ./0_raw_data/RNAseq.gz https://tcga-xena-hub.s3.us-east-1.amazonaws.com/download/TCGA.OV.sampleMap%2FHiSeqV2_PANCAN.gz"
   ]
  },
  {
   "cell_type": "markdown",
   "metadata": {
    "id": "jyjUE0GnqqQW"
   },
   "source": [
    "## Read data into DataFrame"
   ]
  },
  {
   "cell_type": "code",
   "execution_count": 2,
   "metadata": {
    "executionInfo": {
     "elapsed": 7354,
     "status": "ok",
     "timestamp": 1634452559552,
     "user": {
      "displayName": "Cancan Huang",
      "photoUrl": "https://lh3.googleusercontent.com/a-/AOh14GiAcJk7SuqJTxF9K3T4WXI_gfSY-sl4q45iVkhbAA=s64",
      "userId": "00615742887679063285"
     },
     "user_tz": 240
    },
    "id": "zx7_td9eYolm"
   },
   "outputs": [],
   "source": [
    "!gunzip ./0_raw_data/*.gz"
   ]
  },
  {
   "cell_type": "code",
   "execution_count": 3,
   "metadata": {
    "colab": {
     "base_uri": "https://localhost:8080/"
    },
    "executionInfo": {
     "elapsed": 11505,
     "status": "ok",
     "timestamp": 1634452584168,
     "user": {
      "displayName": "Cancan Huang",
      "photoUrl": "https://lh3.googleusercontent.com/a-/AOh14GiAcJk7SuqJTxF9K3T4WXI_gfSY-sl4q45iVkhbAA=s64",
      "userId": "00615742887679063285"
     },
     "user_tz": 240
    },
    "id": "xgZ-sB-NaStE",
    "outputId": "7a69cf46-3fa9-42ff-8dab-47e0b57a0245"
   },
   "outputs": [
    {
     "name": "stdout",
     "output_type": "stream",
     "text": [
      "cnv \t (24776, 579)\n",
      "mrna \t (12042, 593)\n",
      "rnaseq \t (20530, 308)\n",
      "methyl \t (27578, 616)\n"
     ]
    }
   ],
   "source": [
    "import pandas as pd\n",
    "\n",
    "df_list = {}\n",
    "data_cnv_file = \"./0_raw_data/CNV\"\n",
    "data_mRNA_file = \"./0_raw_data/mRNA\"\n",
    "data_RNAseq_file = \"./0_raw_data/RNAseq\"\n",
    "data_methyl_file = \"./0_raw_data/Methyl\"\n",
    "\n",
    "df_list[\"cnv\"] = pd.read_csv(data_cnv_file, sep=\"\\t\", index_col=0)\n",
    "df_list[\"mrna\"] = pd.read_csv(data_mRNA_file, sep=\"\\t\", index_col=0)\n",
    "df_list[\"rnaseq\"] = pd.read_csv(data_RNAseq_file, sep=\"\\t\", index_col=0)\n",
    "df_list[\"methyl\"] = pd.read_csv(data_methyl_file, sep=\"\\t\", index_col=0)\n",
    "\n",
    "for key in df_list.keys():\n",
    "    print(f\"{key} \\t {df_list[key].shape}\")"
   ]
  },
  {
   "cell_type": "markdown",
   "metadata": {
    "id": "2EZEsAxrvNg7"
   },
   "source": [
    "## Intersections"
   ]
  },
  {
   "cell_type": "markdown",
   "metadata": {
    "id": "UFk0P5WLuGDs"
   },
   "source": [
    "### Intersection \\#1: CNV + mRNA + DNA methylation"
   ]
  },
  {
   "cell_type": "code",
   "execution_count": 4,
   "metadata": {
    "colab": {
     "base_uri": "https://localhost:8080/"
    },
    "executionInfo": {
     "elapsed": 612,
     "status": "ok",
     "timestamp": 1634452600113,
     "user": {
      "displayName": "Cancan Huang",
      "photoUrl": "https://lh3.googleusercontent.com/a-/AOh14GiAcJk7SuqJTxF9K3T4WXI_gfSY-sl4q45iVkhbAA=s64",
      "userId": "00615742887679063285"
     },
     "user_tz": 240
    },
    "id": "EfsGdu3buFXs",
    "outputId": "958f121c-aa8c-4b23-8e52-5be1da0f79fb"
   },
   "outputs": [
    {
     "name": "stdout",
     "output_type": "stream",
     "text": [
      "555\n"
     ]
    }
   ],
   "source": [
    "col_idx = pd.concat([df_list[\"cnv\"], df_list[\"mrna\"], df_list[\"methyl\"]], axis=0, join=\"inner\").columns\n",
    "print(len(col_idx))"
   ]
  },
  {
   "cell_type": "code",
   "execution_count": 5,
   "metadata": {
    "executionInfo": {
     "elapsed": 437,
     "status": "ok",
     "timestamp": 1634452607958,
     "user": {
      "displayName": "Cancan Huang",
      "photoUrl": "https://lh3.googleusercontent.com/a-/AOh14GiAcJk7SuqJTxF9K3T4WXI_gfSY-sl4q45iVkhbAA=s64",
      "userId": "00615742887679063285"
     },
     "user_tz": 240
    },
    "id": "pPF7y0mVuXgt"
   },
   "outputs": [],
   "source": [
    "df_list[\"cnv_1\"] = df_list[\"cnv\"][col_idx]\n",
    "df_list[\"mrna_1\"] = df_list[\"mrna\"][col_idx]\n",
    "df_list[\"methyl_1\"] = df_list[\"methyl\"][col_idx]"
   ]
  },
  {
   "cell_type": "markdown",
   "metadata": {
    "id": "TpT2ZClAudaU"
   },
   "source": [
    "### Intersection \\#2: CNV + RNAseq + DNA methylation"
   ]
  },
  {
   "cell_type": "code",
   "execution_count": 6,
   "metadata": {
    "colab": {
     "base_uri": "https://localhost:8080/"
    },
    "executionInfo": {
     "elapsed": 3,
     "status": "ok",
     "timestamp": 1634452611281,
     "user": {
      "displayName": "Cancan Huang",
      "photoUrl": "https://lh3.googleusercontent.com/a-/AOh14GiAcJk7SuqJTxF9K3T4WXI_gfSY-sl4q45iVkhbAA=s64",
      "userId": "00615742887679063285"
     },
     "user_tz": 240
    },
    "id": "RYJadoZhuduB",
    "outputId": "ea692826-7616-4768-d1f5-b3be4942df7e"
   },
   "outputs": [
    {
     "name": "stdout",
     "output_type": "stream",
     "text": [
      "292\n"
     ]
    }
   ],
   "source": [
    "col_idx = pd.concat([df_list[\"cnv\"], df_list[\"rnaseq\"], df_list[\"methyl\"]], axis=0, join=\"inner\").columns\n",
    "print(len(col_idx))"
   ]
  },
  {
   "cell_type": "code",
   "execution_count": 7,
   "metadata": {
    "executionInfo": {
     "elapsed": 284,
     "status": "ok",
     "timestamp": 1634452612993,
     "user": {
      "displayName": "Cancan Huang",
      "photoUrl": "https://lh3.googleusercontent.com/a-/AOh14GiAcJk7SuqJTxF9K3T4WXI_gfSY-sl4q45iVkhbAA=s64",
      "userId": "00615742887679063285"
     },
     "user_tz": 240
    },
    "id": "3DOAdYfhupMH"
   },
   "outputs": [],
   "source": [
    "df_list[\"cnv_2\"] = df_list[\"cnv\"][col_idx]\n",
    "df_list[\"rnaseq_2\"] = df_list[\"rnaseq\"][col_idx]\n",
    "df_list[\"methyl_2\"] = df_list[\"methyl\"][col_idx]"
   ]
  },
  {
   "cell_type": "markdown",
   "metadata": {
    "id": "Ucy9yU3AqeDw"
   },
   "source": [
    "## Zero/Missing/NA values removal"
   ]
  },
  {
   "cell_type": "code",
   "execution_count": 8,
   "metadata": {
    "executionInfo": {
     "elapsed": 295,
     "status": "ok",
     "timestamp": 1634452617596,
     "user": {
      "displayName": "Cancan Huang",
      "photoUrl": "https://lh3.googleusercontent.com/a-/AOh14GiAcJk7SuqJTxF9K3T4WXI_gfSY-sl4q45iVkhbAA=s64",
      "userId": "00615742887679063285"
     },
     "user_tz": 240
    },
    "id": "irzzRjfsgI_g"
   },
   "outputs": [],
   "source": [
    "def remove_missing_zero_data(df):\n",
    "    df = df.dropna(axis=0, how='any')\n",
    "    df = df[df.where(df != 0).any(axis=1)]\n",
    "    return df"
   ]
  },
  {
   "cell_type": "code",
   "execution_count": 9,
   "metadata": {
    "colab": {
     "base_uri": "https://localhost:8080/"
    },
    "executionInfo": {
     "elapsed": 2561,
     "status": "ok",
     "timestamp": 1634452622149,
     "user": {
      "displayName": "Cancan Huang",
      "photoUrl": "https://lh3.googleusercontent.com/a-/AOh14GiAcJk7SuqJTxF9K3T4WXI_gfSY-sl4q45iVkhbAA=s64",
      "userId": "00615742887679063285"
     },
     "user_tz": 240
    },
    "id": "wjOlJoCshYvb",
    "outputId": "aa924b91-7032-46d7-f816-cc3100ed6c59"
   },
   "outputs": [
    {
     "name": "stdout",
     "output_type": "stream",
     "text": [
      "cnv \t (24776, 579)\n",
      "mrna \t (12042, 593)\n",
      "rnaseq \t (20318, 308)\n",
      "methyl \t (21666, 616)\n",
      "cnv_1 \t (24776, 555)\n",
      "mrna_1 \t (12042, 555)\n",
      "methyl_1 \t (21694, 555)\n",
      "cnv_2 \t (24776, 292)\n",
      "rnaseq_2 \t (20318, 292)\n",
      "methyl_2 \t (22528, 292)\n"
     ]
    }
   ],
   "source": [
    "import numpy as np\n",
    "\n",
    "for key in df_list.keys():\n",
    "    df_list[key] = remove_missing_zero_data(df_list[key])\n",
    "    print(f\"{key} \\t {df_list[key].shape}\")"
   ]
  },
  {
   "cell_type": "markdown",
   "metadata": {
    "id": "XYdTZlM-qvNb"
   },
   "source": [
    "## Normalisation"
   ]
  },
  {
   "cell_type": "code",
   "execution_count": 10,
   "metadata": {
    "executionInfo": {
     "elapsed": 298,
     "status": "ok",
     "timestamp": 1634452625521,
     "user": {
      "displayName": "Cancan Huang",
      "photoUrl": "https://lh3.googleusercontent.com/a-/AOh14GiAcJk7SuqJTxF9K3T4WXI_gfSY-sl4q45iVkhbAA=s64",
      "userId": "00615742887679063285"
     },
     "user_tz": 240
    },
    "id": "aJRwnmNiqw6x"
   },
   "outputs": [],
   "source": [
    "def min_max_normalization(df):\n",
    "    for column in df.columns:\n",
    "        df[column] = (df[column] - df[column].min())/ (df[column].max() - df[column].min())\n",
    "    return df"
   ]
  },
  {
   "cell_type": "code",
   "execution_count": 11,
   "metadata": {
    "executionInfo": {
     "elapsed": 10882,
     "status": "ok",
     "timestamp": 1634452638669,
     "user": {
      "displayName": "Cancan Huang",
      "photoUrl": "https://lh3.googleusercontent.com/a-/AOh14GiAcJk7SuqJTxF9K3T4WXI_gfSY-sl4q45iVkhbAA=s64",
      "userId": "00615742887679063285"
     },
     "user_tz": 240
    },
    "id": "SCmU0Z5arcdD"
   },
   "outputs": [],
   "source": [
    "for key in df_list.keys():\n",
    "    df_list[key] = min_max_normalization(df_list[key])"
   ]
  },
  {
   "cell_type": "markdown",
   "metadata": {
    "id": "La6y4NB8tVvd"
   },
   "source": [
    "## Concatenation for multi-omics data"
   ]
  },
  {
   "cell_type": "code",
   "execution_count": 12,
   "metadata": {
    "colab": {
     "base_uri": "https://localhost:8080/"
    },
    "executionInfo": {
     "elapsed": 331,
     "status": "ok",
     "timestamp": 1634452638988,
     "user": {
      "displayName": "Cancan Huang",
      "photoUrl": "https://lh3.googleusercontent.com/a-/AOh14GiAcJk7SuqJTxF9K3T4WXI_gfSY-sl4q45iVkhbAA=s64",
      "userId": "00615742887679063285"
     },
     "user_tz": 240
    },
    "id": "tV6Z9Lh_td0K",
    "outputId": "76788653-1eef-415e-b5f9-4ae79ec76967"
   },
   "outputs": [
    {
     "name": "stdout",
     "output_type": "stream",
     "text": [
      "mrna_methyl \t (33736, 555)\n",
      "methyl_cnv \t (46470, 555)\n",
      "cnv_mrna \t (36818, 555)\n",
      "methyl_rnaseq \t (42846, 292)\n",
      "cnv_rnaseq \t (45094, 292)\n",
      "cnv_methyl_mrna \t (58512, 555)\n",
      "cnv_methyl_rnaseq \t (67622, 292)\n"
     ]
    }
   ],
   "source": [
    "final_list = {}\n",
    "\n",
    "final_list[\"mrna_methyl\"] = pd.concat([df_list[\"mrna_1\"], df_list[\"methyl_1\"]], axis=0, join=\"inner\")\n",
    "final_list[\"methyl_cnv\"] = pd.concat([df_list[\"cnv_1\"], df_list[\"methyl_1\"]], axis=0, join=\"inner\")\n",
    "final_list[\"cnv_mrna\"] = pd.concat([df_list[\"cnv_1\"], df_list[\"mrna_1\"]], axis=0, join=\"inner\")\n",
    "\n",
    "final_list[\"methyl_rnaseq\"] = pd.concat([df_list[\"methyl_2\"], df_list[\"rnaseq_2\"]], axis=0, join=\"inner\")\n",
    "final_list[\"cnv_rnaseq\"] = pd.concat([df_list[\"cnv_2\"], df_list[\"rnaseq_2\"]], axis=0, join=\"inner\")\n",
    "\n",
    "final_list[\"cnv_methyl_mrna\"] = pd.concat([final_list[\"methyl_cnv\"], df_list[\"mrna_1\"]], axis=0, join=\"inner\")\n",
    "final_list[\"cnv_methyl_rnaseq\"] = pd.concat([final_list[\"methyl_rnaseq\"], df_list[\"cnv_2\"]], axis=0, join=\"inner\")\n",
    "\n",
    "\n",
    "for key in final_list.keys():\n",
    "    print(f\"{key} \\t {final_list[key].shape}\")"
   ]
  },
  {
   "cell_type": "code",
   "execution_count": 13,
   "metadata": {
    "executionInfo": {
     "elapsed": 273559,
     "status": "ok",
     "timestamp": 1634452998008,
     "user": {
      "displayName": "Cancan Huang",
      "photoUrl": "https://lh3.googleusercontent.com/a-/AOh14GiAcJk7SuqJTxF9K3T4WXI_gfSY-sl4q45iVkhbAA=s64",
      "userId": "00615742887679063285"
     },
     "user_tz": 240
    },
    "id": "Vr-IHwB5-JsT"
   },
   "outputs": [],
   "source": [
    "for key in final_list.keys():\n",
    "    final_list[key].to_csv(f'./1_csv_data/{key}.csv')"
   ]
  },
  {
   "cell_type": "code",
   "execution_count": 14,
   "metadata": {
    "executionInfo": {
     "elapsed": 208113,
     "status": "ok",
     "timestamp": 1634453391999,
     "user": {
      "displayName": "Cancan Huang",
      "photoUrl": "https://lh3.googleusercontent.com/a-/AOh14GiAcJk7SuqJTxF9K3T4WXI_gfSY-sl4q45iVkhbAA=s64",
      "userId": "00615742887679063285"
     },
     "user_tz": 240
    },
    "id": "t6STMcPBAAwn"
   },
   "outputs": [],
   "source": [
    "for key in df_list.keys():\n",
    "    df_list[key].to_csv(f'./1_csv_data/{key}.csv')"
   ]
  }
 ],
 "metadata": {
  "colab": {
   "authorship_tag": "ABX9TyMVeWzxv8Svx89hOjtHbZsZ",
   "collapsed_sections": [],
   "mount_file_id": "1kzE3lFqL64ZDIzird0FOOTyOg9AHvAta",
   "name": "2952g_final_project.ipynb",
   "provenance": []
  },
  "interpreter": {
   "hash": "aee8b7b246df8f9039afb4144a1f6fd8d2ca17a180786b69acc140d282b71a49"
  },
  "kernelspec": {
   "display_name": "Python 3 (ipykernel)",
   "language": "python",
   "name": "python3"
  },
  "language_info": {
   "codemirror_mode": {
    "name": "ipython",
    "version": 3
   },
   "file_extension": ".py",
   "mimetype": "text/x-python",
   "name": "python",
   "nbconvert_exporter": "python",
   "pygments_lexer": "ipython3",
   "version": "3.7.4"
  }
 },
 "nbformat": 4,
 "nbformat_minor": 4
}
