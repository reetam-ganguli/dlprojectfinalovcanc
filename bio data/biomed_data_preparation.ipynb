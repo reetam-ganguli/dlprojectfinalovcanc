{
 "cells": [
  {
   "cell_type": "markdown",
   "metadata": {
    "id": "jyjUE0GnqqQW"
   },
   "source": [
    "## Read data into DataFrame"
   ]
  },
  {
   "cell_type": "code",
   "execution_count": 1,
   "metadata": {},
   "outputs": [],
   "source": [
    "import pandas as pd\n",
    "\n",
    "# b_aliquot = pd.read_csv('./01_csv_data/biomed_aliquot.csv')\n",
    "b_aliquot = pd.read_csv('./01_csv_data/biomed_aliquot_short.csv')\n",
    "b_analyte = pd.read_csv('./01_csv_data/biomed_analyte.csv')\n",
    "b_diag_slides = pd.read_csv('./01_csv_data/biomed_diag_slides.csv')\n",
    "b_portion = pd.read_csv('./01_csv_data/biomed_portion.csv')\n",
    "b_sample = pd.read_csv('./01_csv_data/biomed_sample.csv')\n",
    "b_shipment_portion = pd.read_csv('./01_csv_data/biomed_shipment_portion.csv')\n",
    "b_slide = pd.read_csv('./01_csv_data/biomed_slide.csv')\n",
    "b_ssf_norm = pd.read_csv('./01_csv_data/biomed_ssf_norm.csv')\n",
    "b_ssf_tumor = pd.read_csv('./01_csv_data/biomed_ssf_tumor.csv')\n",
    "\n",
    "c_drug = pd.read_csv('./01_csv_data/clinical_drug.csv')\n",
    "c_v1nte = pd.read_csv('./01_csv_data/clinical_v1_nte.csv')\n",
    "c_v1 = pd.read_csv('./01_csv_data/clinical_v1.csv')\n",
    "c_nte = pd.read_csv('./01_csv_data/clinical_nte.csv')\n",
    "c_omfv4 = pd.read_csv('./01_csv_data/clinical_omf_v4.csv')\n",
    "c_patient = pd.read_csv('./01_csv_data/clinical_patient.csv')\n",
    "c_radiation = pd.read_csv('./01_csv_data/clinical_radiation.csv')"
   ]
  },
  {
   "cell_type": "markdown",
   "metadata": {
    "id": "UFk0P5WLuGDs"
   },
   "source": [
    "### Merge Biomedical and Clinical Data"
   ]
  },
  {
   "cell_type": "code",
   "execution_count": 2,
   "metadata": {},
   "outputs": [
    {
     "name": "stdout",
     "output_type": "stream",
     "text": [
      "(10052, 112)\n",
      "(4294, 161)\n",
      "(67228, 272)\n"
     ]
    }
   ],
   "source": [
    "from functools import reduce\n",
    "\n",
    "##==============BIOMEDICAL==============##\n",
    "# Add biomedical dfs to list:\n",
    "biomed_dfs_list = []\n",
    "biomed_dfs_list.append(b_aliquot)\n",
    "biomed_dfs_list.append(b_analyte)\n",
    "biomed_dfs_list.append(b_diag_slides)\n",
    "biomed_dfs_list.append(b_sample)\n",
    "biomed_dfs_list.append(b_shipment_portion)\n",
    "biomed_dfs_list.append(b_slide)\n",
    "biomed_dfs_list.append(b_ssf_norm)\n",
    "biomed_dfs_list.append(b_ssf_tumor)\n",
    "\n",
    "# Merge dfs for biomedical data:\n",
    "df_final_biomed = reduce(lambda df1, df2: df1.merge(df2, \"outer\"), biomed_dfs_list)\n",
    "df_final_biomed.to_csv('./02_combined_data/biomedical_data.csv', index=False)\n",
    "\n",
    "##==============CLINICAL==============##\n",
    "# Add clinical dfs to list:\n",
    "clinic_dfs_list = []\n",
    "clinic_dfs_list.append(c_drug)\n",
    "clinic_dfs_list.append(c_v1nte)\n",
    "clinic_dfs_list.append(c_v1)\n",
    "clinic_dfs_list.append(c_nte)\n",
    "clinic_dfs_list.append(c_omfv4)\n",
    "clinic_dfs_list.append(c_patient)\n",
    "clinic_dfs_list.append(c_radiation)\n",
    "\n",
    "# Merge dfs for clinical data:\n",
    "df_final_clinic = reduce(lambda x,y: pd.merge(x,y, on=['bcr_patient_uuid', 'bcr_patient_barcode'], how='outer'), clinic_dfs_list)\n",
    "df_final_clinic.to_csv('./02_combined_data/clinical_data.csv', index=False)\n",
    "\n",
    "##==============COMBINED==============##\n",
    "# Concatenate biomedical and clinical data:\n",
    "df_biomed_clinic = pd.merge(df_final_biomed, df_final_clinic, on=['bcr_patient_uuid'], how='outer')\n",
    "df_biomed_clinic.to_csv('./02_combined_data/biomedical_clinical_data.csv', index=False)\n",
    "\n",
    "print(df_final_biomed.shape) #should be about (10052, 112)\n",
    "print(df_final_clinic.shape) #should be about (4294, 161)\n",
    "print(df_biomed_clinic.shape) #should be about (67228, 272)"
   ]
  }
 ],
 "metadata": {
  "colab": {
   "authorship_tag": "ABX9TyMVeWzxv8Svx89hOjtHbZsZ",
   "collapsed_sections": [],
   "mount_file_id": "1kzE3lFqL64ZDIzird0FOOTyOg9AHvAta",
   "name": "2952g_final_project.ipynb",
   "provenance": []
  },
  "interpreter": {
   "hash": "aee8b7b246df8f9039afb4144a1f6fd8d2ca17a180786b69acc140d282b71a49"
  },
  "kernelspec": {
   "display_name": "Python 3",
   "language": "python",
   "name": "python3"
  },
  "language_info": {
   "codemirror_mode": {
    "name": "ipython",
    "version": 3
   },
   "file_extension": ".py",
   "mimetype": "text/x-python",
   "name": "python",
   "nbconvert_exporter": "python",
   "pygments_lexer": "ipython3",
   "version": "3.7.11"
  }
 },
 "nbformat": 4,
 "nbformat_minor": 2
}
